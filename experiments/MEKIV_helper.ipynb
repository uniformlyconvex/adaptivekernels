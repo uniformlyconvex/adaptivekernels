{
 "cells": [
  {
   "cell_type": "code",
   "execution_count": 8,
   "metadata": {},
   "outputs": [
    {
     "name": "stdout",
     "output_type": "stream",
     "text": [
      "tensor([[3.4285, 0.0000, 0.0000],\n",
      "        [0.0000, 1.9597, 0.0000],\n",
      "        [0.0000, 0.0000, 0.9842]])\n",
      "tensor([1.8391, 1.4254, 1.0238])\n",
      "tensor([1.8407, 1.3949, 1.0247])\n",
      "Mean squared distance from (M+N)/2 to X: 3.2499\n"
     ]
    },
    {
     "name": "stderr",
     "output_type": "stream",
     "text": [
      "100%|██████████| 100/100 [00:01<00:00, 95.81it/s]\n"
     ]
    },
    {
     "name": "stdout",
     "output_type": "stream",
     "text": [
      "Minimization took 1.05 seconds\n"
     ]
    },
    {
     "name": "stderr",
     "output_type": "stream",
     "text": [
      "100%|██████████| 100/100 [00:00<00:00, 100.31it/s]\n"
     ]
    },
    {
     "name": "stdout",
     "output_type": "stream",
     "text": [
      "Minimization took 1.00 seconds\n",
      "lambda_MN = 0.003459376282989979\n",
      "lambda_N = 0.0017761032795533538\n"
     ]
    },
    {
     "name": "stderr",
     "output_type": "stream",
     "text": [
      "  0%|          | 0/3000 [00:00<?, ?it/s]"
     ]
    },
    {
     "name": "stdout",
     "output_type": "stream",
     "text": [
      "Before training:\n",
      "    Mean square distance to | True X: 3.2499 | M: 3.2352 | N: 3.2352 | MN: 0.0000\n"
     ]
    },
    {
     "name": "stderr",
     "output_type": "stream",
     "text": [
      "  0%|          | 2/3000 [00:00<03:32, 14.10it/s]"
     ]
    },
    {
     "name": "stdout",
     "output_type": "stream",
     "text": [
      "Epoch 0 | Loss: 3.4143 | Good indices: True\n",
      "    Mean square distance to | True X: 3.2501 | M: 3.2352 | N: 3.2353 | MN: 0.0000\n"
     ]
    },
    {
     "name": "stderr",
     "output_type": "stream",
     "text": [
      "  1%|          | 34/3000 [00:02<03:09, 15.66it/s]"
     ]
    },
    {
     "name": "stdout",
     "output_type": "stream",
     "text": [
      "Epoch 30 | Loss: 2.7162 | Good indices: True\n",
      "    Mean square distance to | True X: 3.2430 | M: 3.2358 | N: 3.2358 | MN: 0.0006\n"
     ]
    },
    {
     "name": "stderr",
     "output_type": "stream",
     "text": [
      "  2%|▏         | 64/3000 [00:04<03:08, 15.59it/s]"
     ]
    },
    {
     "name": "stdout",
     "output_type": "stream",
     "text": [
      "Epoch 60 | Loss: 2.6304 | Good indices: True\n",
      "    Mean square distance to | True X: 3.2337 | M: 3.2391 | N: 3.2343 | MN: 0.0014\n"
     ]
    },
    {
     "name": "stderr",
     "output_type": "stream",
     "text": [
      "  3%|▎         | 94/3000 [00:06<03:06, 15.57it/s]"
     ]
    },
    {
     "name": "stdout",
     "output_type": "stream",
     "text": [
      "Epoch 90 | Loss: 2.5686 | Good indices: True\n",
      "    Mean square distance to | True X: 3.2249 | M: 3.2438 | N: 3.2321 | MN: 0.0027\n"
     ]
    },
    {
     "name": "stderr",
     "output_type": "stream",
     "text": [
      "  4%|▍         | 124/3000 [00:07<03:04, 15.55it/s]"
     ]
    },
    {
     "name": "stdout",
     "output_type": "stream",
     "text": [
      "Epoch 120 | Loss: 2.5091 | Good indices: True\n",
      "    Mean square distance to | True X: 3.2168 | M: 3.2495 | N: 3.2298 | MN: 0.0044\n"
     ]
    },
    {
     "name": "stderr",
     "output_type": "stream",
     "text": [
      "  5%|▌         | 154/3000 [00:09<03:03, 15.54it/s]"
     ]
    },
    {
     "name": "stdout",
     "output_type": "stream",
     "text": [
      "Epoch 150 | Loss: 2.4617 | Good indices: True\n",
      "    Mean square distance to | True X: 3.2088 | M: 3.2572 | N: 3.2263 | MN: 0.0065\n"
     ]
    },
    {
     "name": "stderr",
     "output_type": "stream",
     "text": [
      "  6%|▌         | 184/3000 [00:11<03:00, 15.61it/s]"
     ]
    },
    {
     "name": "stdout",
     "output_type": "stream",
     "text": [
      "Epoch 180 | Loss: 2.4099 | Good indices: True\n",
      "    Mean square distance to | True X: 3.2006 | M: 3.2656 | N: 3.2233 | MN: 0.0092\n"
     ]
    },
    {
     "name": "stderr",
     "output_type": "stream",
     "text": [
      "  7%|▋         | 214/3000 [00:13<02:58, 15.60it/s]"
     ]
    },
    {
     "name": "stdout",
     "output_type": "stream",
     "text": [
      "Epoch 210 | Loss: 2.3661 | Good indices: True\n",
      "    Mean square distance to | True X: 3.1912 | M: 3.2731 | N: 3.2220 | MN: 0.0123\n"
     ]
    },
    {
     "name": "stderr",
     "output_type": "stream",
     "text": [
      "  8%|▊         | 244/3000 [00:15<02:57, 15.51it/s]"
     ]
    },
    {
     "name": "stdout",
     "output_type": "stream",
     "text": [
      "Epoch 240 | Loss: 2.3283 | Good indices: True\n",
      "    Mean square distance to | True X: 3.1828 | M: 3.2822 | N: 3.2199 | MN: 0.0158\n"
     ]
    },
    {
     "name": "stderr",
     "output_type": "stream",
     "text": [
      "  9%|▉         | 274/3000 [00:17<02:55, 15.57it/s]"
     ]
    },
    {
     "name": "stdout",
     "output_type": "stream",
     "text": [
      "Epoch 270 | Loss: 2.2939 | Good indices: True\n",
      "    Mean square distance to | True X: 3.1748 | M: 3.2913 | N: 3.2188 | MN: 0.0198\n"
     ]
    },
    {
     "name": "stderr",
     "output_type": "stream",
     "text": [
      " 10%|█         | 304/3000 [00:19<02:53, 15.51it/s]"
     ]
    },
    {
     "name": "stdout",
     "output_type": "stream",
     "text": [
      "Epoch 300 | Loss: 2.2610 | Good indices: True\n",
      "    Mean square distance to | True X: 3.1669 | M: 3.3004 | N: 3.2184 | MN: 0.0242\n"
     ]
    },
    {
     "name": "stderr",
     "output_type": "stream",
     "text": [
      " 11%|█         | 334/3000 [00:21<02:51, 15.54it/s]"
     ]
    },
    {
     "name": "stdout",
     "output_type": "stream",
     "text": [
      "Epoch 330 | Loss: 2.2282 | Good indices: True\n",
      "    Mean square distance to | True X: 3.1597 | M: 3.3099 | N: 3.2188 | MN: 0.0291\n"
     ]
    },
    {
     "name": "stderr",
     "output_type": "stream",
     "text": [
      " 12%|█▏        | 364/3000 [00:23<02:50, 15.49it/s]"
     ]
    },
    {
     "name": "stdout",
     "output_type": "stream",
     "text": [
      "Epoch 360 | Loss: 2.1948 | Good indices: True\n",
      "    Mean square distance to | True X: 3.1530 | M: 3.3196 | N: 3.2200 | MN: 0.0346\n"
     ]
    },
    {
     "name": "stderr",
     "output_type": "stream",
     "text": [
      " 13%|█▎        | 394/3000 [00:25<02:48, 15.49it/s]"
     ]
    },
    {
     "name": "stdout",
     "output_type": "stream",
     "text": [
      "Epoch 390 | Loss: 2.1623 | Good indices: True\n",
      "    Mean square distance to | True X: 3.1469 | M: 3.3300 | N: 3.2214 | MN: 0.0405\n"
     ]
    },
    {
     "name": "stderr",
     "output_type": "stream",
     "text": [
      " 14%|█▍        | 424/3000 [00:27<02:46, 15.49it/s]"
     ]
    },
    {
     "name": "stdout",
     "output_type": "stream",
     "text": [
      "Epoch 420 | Loss: 2.1315 | Good indices: True\n",
      "    Mean square distance to | True X: 3.1414 | M: 3.3413 | N: 3.2228 | MN: 0.0468\n"
     ]
    },
    {
     "name": "stderr",
     "output_type": "stream",
     "text": [
      " 15%|█▌        | 454/3000 [00:29<02:44, 15.44it/s]"
     ]
    },
    {
     "name": "stdout",
     "output_type": "stream",
     "text": [
      "Epoch 450 | Loss: 2.1029 | Good indices: True\n",
      "    Mean square distance to | True X: 3.1360 | M: 3.3527 | N: 3.2247 | MN: 0.0535\n"
     ]
    },
    {
     "name": "stderr",
     "output_type": "stream",
     "text": [
      " 16%|█▌        | 484/3000 [00:31<02:42, 15.44it/s]"
     ]
    },
    {
     "name": "stdout",
     "output_type": "stream",
     "text": [
      "Epoch 480 | Loss: 2.0760 | Good indices: True\n",
      "    Mean square distance to | True X: 3.1308 | M: 3.3645 | N: 3.2271 | MN: 0.0605\n"
     ]
    },
    {
     "name": "stderr",
     "output_type": "stream",
     "text": [
      " 17%|█▋        | 514/3000 [00:33<02:41, 15.40it/s]"
     ]
    },
    {
     "name": "stdout",
     "output_type": "stream",
     "text": [
      "Epoch 510 | Loss: 2.0483 | Good indices: True\n",
      "    Mean square distance to | True X: 3.1257 | M: 3.3769 | N: 3.2298 | MN: 0.0681\n"
     ]
    },
    {
     "name": "stderr",
     "output_type": "stream",
     "text": [
      " 18%|█▊        | 544/3000 [00:35<02:39, 15.41it/s]"
     ]
    },
    {
     "name": "stdout",
     "output_type": "stream",
     "text": [
      "Epoch 540 | Loss: 2.0224 | Good indices: True\n",
      "    Mean square distance to | True X: 3.1213 | M: 3.3896 | N: 3.2331 | MN: 0.0761\n"
     ]
    },
    {
     "name": "stderr",
     "output_type": "stream",
     "text": [
      " 19%|█▉        | 574/3000 [00:36<02:37, 15.44it/s]"
     ]
    },
    {
     "name": "stdout",
     "output_type": "stream",
     "text": [
      "Epoch 570 | Loss: 1.9978 | Good indices: True\n",
      "    Mean square distance to | True X: 3.1179 | M: 3.4025 | N: 3.2372 | MN: 0.0846\n"
     ]
    },
    {
     "name": "stderr",
     "output_type": "stream",
     "text": [
      " 20%|██        | 604/3000 [00:38<02:35, 15.38it/s]"
     ]
    },
    {
     "name": "stdout",
     "output_type": "stream",
     "text": [
      "Epoch 600 | Loss: 1.9726 | Good indices: True\n",
      "    Mean square distance to | True X: 3.1152 | M: 3.4164 | N: 3.2415 | MN: 0.0937\n"
     ]
    },
    {
     "name": "stderr",
     "output_type": "stream",
     "text": [
      " 21%|██        | 634/3000 [00:40<02:33, 15.42it/s]"
     ]
    },
    {
     "name": "stdout",
     "output_type": "stream",
     "text": [
      "Epoch 630 | Loss: 1.9483 | Good indices: True\n",
      "    Mean square distance to | True X: 3.1131 | M: 3.4312 | N: 3.2458 | MN: 0.1033\n"
     ]
    },
    {
     "name": "stderr",
     "output_type": "stream",
     "text": [
      " 22%|██▏       | 664/3000 [00:42<02:32, 15.36it/s]"
     ]
    },
    {
     "name": "stdout",
     "output_type": "stream",
     "text": [
      "Epoch 660 | Loss: 1.9235 | Good indices: True\n",
      "    Mean square distance to | True X: 3.1120 | M: 3.4468 | N: 3.2503 | MN: 0.1133\n"
     ]
    },
    {
     "name": "stderr",
     "output_type": "stream",
     "text": [
      " 23%|██▎       | 694/3000 [00:44<02:30, 15.35it/s]"
     ]
    },
    {
     "name": "stdout",
     "output_type": "stream",
     "text": [
      "Epoch 690 | Loss: 1.8999 | Good indices: True\n",
      "    Mean square distance to | True X: 3.1111 | M: 3.4624 | N: 3.2557 | MN: 0.1238\n"
     ]
    },
    {
     "name": "stderr",
     "output_type": "stream",
     "text": [
      " 24%|██▍       | 724/3000 [00:46<02:28, 15.37it/s]"
     ]
    },
    {
     "name": "stdout",
     "output_type": "stream",
     "text": [
      "Epoch 720 | Loss: 1.8771 | Good indices: True\n",
      "    Mean square distance to | True X: 3.1102 | M: 3.4780 | N: 3.2620 | MN: 0.1347\n"
     ]
    },
    {
     "name": "stderr",
     "output_type": "stream",
     "text": [
      " 25%|██▌       | 754/3000 [00:48<02:26, 15.36it/s]"
     ]
    },
    {
     "name": "stdout",
     "output_type": "stream",
     "text": [
      "Epoch 750 | Loss: 1.8552 | Good indices: True\n",
      "    Mean square distance to | True X: 3.1092 | M: 3.4938 | N: 3.2689 | MN: 0.1461\n"
     ]
    },
    {
     "name": "stderr",
     "output_type": "stream",
     "text": [
      " 26%|██▌       | 784/3000 [00:50<02:24, 15.29it/s]"
     ]
    },
    {
     "name": "stdout",
     "output_type": "stream",
     "text": [
      "Epoch 780 | Loss: 1.8344 | Good indices: True\n",
      "    Mean square distance to | True X: 3.1080 | M: 3.5099 | N: 3.2761 | MN: 0.1578\n"
     ]
    },
    {
     "name": "stderr",
     "output_type": "stream",
     "text": [
      " 27%|██▋       | 814/3000 [00:52<02:23, 15.27it/s]"
     ]
    },
    {
     "name": "stdout",
     "output_type": "stream",
     "text": [
      "Epoch 810 | Loss: 1.8144 | Good indices: True\n",
      "    Mean square distance to | True X: 3.1069 | M: 3.5266 | N: 3.2834 | MN: 0.1698\n"
     ]
    },
    {
     "name": "stderr",
     "output_type": "stream",
     "text": [
      " 28%|██▊       | 844/3000 [00:54<02:21, 15.22it/s]"
     ]
    },
    {
     "name": "stdout",
     "output_type": "stream",
     "text": [
      "Epoch 840 | Loss: 1.7947 | Good indices: True\n",
      "    Mean square distance to | True X: 3.1060 | M: 3.5440 | N: 3.2908 | MN: 0.1822\n"
     ]
    },
    {
     "name": "stderr",
     "output_type": "stream",
     "text": [
      " 29%|██▉       | 874/3000 [00:56<02:18, 15.31it/s]"
     ]
    },
    {
     "name": "stdout",
     "output_type": "stream",
     "text": [
      "Epoch 870 | Loss: 1.7755 | Good indices: True\n",
      "    Mean square distance to | True X: 3.1056 | M: 3.5619 | N: 3.2984 | MN: 0.1949\n"
     ]
    },
    {
     "name": "stderr",
     "output_type": "stream",
     "text": [
      " 30%|███       | 904/3000 [00:58<02:16, 15.32it/s]"
     ]
    },
    {
     "name": "stdout",
     "output_type": "stream",
     "text": [
      "Epoch 900 | Loss: 1.7566 | Good indices: True\n",
      "    Mean square distance to | True X: 3.1057 | M: 3.5803 | N: 3.3062 | MN: 0.2080\n"
     ]
    },
    {
     "name": "stderr",
     "output_type": "stream",
     "text": [
      " 31%|███       | 934/3000 [01:00<02:15, 15.24it/s]"
     ]
    },
    {
     "name": "stdout",
     "output_type": "stream",
     "text": [
      "Epoch 930 | Loss: 1.7382 | Good indices: True\n",
      "    Mean square distance to | True X: 3.1060 | M: 3.5989 | N: 3.3144 | MN: 0.2214\n"
     ]
    },
    {
     "name": "stderr",
     "output_type": "stream",
     "text": [
      " 32%|███▏      | 964/3000 [01:02<02:12, 15.31it/s]"
     ]
    },
    {
     "name": "stdout",
     "output_type": "stream",
     "text": [
      "Epoch 960 | Loss: 1.7201 | Good indices: True\n",
      "    Mean square distance to | True X: 3.1067 | M: 3.6177 | N: 3.3230 | MN: 0.2351\n"
     ]
    },
    {
     "name": "stderr",
     "output_type": "stream",
     "text": [
      " 33%|███▎      | 994/3000 [01:04<02:11, 15.25it/s]"
     ]
    },
    {
     "name": "stdout",
     "output_type": "stream",
     "text": [
      "Epoch 990 | Loss: 1.7020 | Good indices: True\n",
      "    Mean square distance to | True X: 3.1075 | M: 3.6369 | N: 3.3319 | MN: 0.2492\n"
     ]
    },
    {
     "name": "stderr",
     "output_type": "stream",
     "text": [
      " 34%|███▍      | 1024/3000 [01:06<02:09, 15.28it/s]"
     ]
    },
    {
     "name": "stdout",
     "output_type": "stream",
     "text": [
      "Epoch 1020 | Loss: 1.6841 | Good indices: True\n",
      "    Mean square distance to | True X: 3.1087 | M: 3.6566 | N: 3.3412 | MN: 0.2637\n"
     ]
    },
    {
     "name": "stderr",
     "output_type": "stream",
     "text": [
      " 35%|███▌      | 1054/3000 [01:08<02:07, 15.24it/s]"
     ]
    },
    {
     "name": "stdout",
     "output_type": "stream",
     "text": [
      "Epoch 1050 | Loss: 1.6669 | Good indices: True\n",
      "    Mean square distance to | True X: 3.1105 | M: 3.6763 | N: 3.3510 | MN: 0.2784\n"
     ]
    },
    {
     "name": "stderr",
     "output_type": "stream",
     "text": [
      " 36%|███▌      | 1084/3000 [01:10<02:05, 15.25it/s]"
     ]
    },
    {
     "name": "stdout",
     "output_type": "stream",
     "text": [
      "Epoch 1080 | Loss: 1.6504 | Good indices: True\n",
      "    Mean square distance to | True X: 3.1128 | M: 3.6962 | N: 3.3609 | MN: 0.2933\n"
     ]
    },
    {
     "name": "stderr",
     "output_type": "stream",
     "text": [
      " 37%|███▋      | 1114/3000 [01:12<02:03, 15.21it/s]"
     ]
    },
    {
     "name": "stdout",
     "output_type": "stream",
     "text": [
      "Epoch 1110 | Loss: 1.6347 | Good indices: True\n",
      "    Mean square distance to | True X: 3.1154 | M: 3.7162 | N: 3.3710 | MN: 0.3084\n"
     ]
    },
    {
     "name": "stderr",
     "output_type": "stream",
     "text": [
      " 38%|███▊      | 1144/3000 [01:14<02:01, 15.22it/s]"
     ]
    },
    {
     "name": "stdout",
     "output_type": "stream",
     "text": [
      "Epoch 1140 | Loss: 1.6197 | Good indices: True\n",
      "    Mean square distance to | True X: 3.1185 | M: 3.7364 | N: 3.3812 | MN: 0.3236\n"
     ]
    },
    {
     "name": "stderr",
     "output_type": "stream",
     "text": [
      " 39%|███▉      | 1174/3000 [01:16<01:59, 15.23it/s]"
     ]
    },
    {
     "name": "stdout",
     "output_type": "stream",
     "text": [
      "Epoch 1170 | Loss: 1.6046 | Good indices: True\n",
      "    Mean square distance to | True X: 3.1220 | M: 3.7572 | N: 3.3912 | MN: 0.3390\n"
     ]
    },
    {
     "name": "stderr",
     "output_type": "stream",
     "text": [
      " 40%|████      | 1204/3000 [01:18<01:57, 15.23it/s]"
     ]
    },
    {
     "name": "stdout",
     "output_type": "stream",
     "text": [
      "Epoch 1200 | Loss: 1.5895 | Good indices: True\n",
      "    Mean square distance to | True X: 3.1264 | M: 3.7787 | N: 3.4011 | MN: 0.3547\n"
     ]
    },
    {
     "name": "stderr",
     "output_type": "stream",
     "text": [
      " 41%|████      | 1234/3000 [01:20<01:56, 15.22it/s]"
     ]
    },
    {
     "name": "stdout",
     "output_type": "stream",
     "text": [
      "Epoch 1230 | Loss: 1.5760 | Good indices: True\n",
      "    Mean square distance to | True X: 3.1313 | M: 3.8001 | N: 3.4114 | MN: 0.3705\n"
     ]
    },
    {
     "name": "stderr",
     "output_type": "stream",
     "text": [
      " 42%|████▏     | 1264/3000 [01:22<01:54, 15.10it/s]"
     ]
    },
    {
     "name": "stdout",
     "output_type": "stream",
     "text": [
      "Epoch 1260 | Loss: 1.5638 | Good indices: True\n",
      "    Mean square distance to | True X: 3.1364 | M: 3.8207 | N: 3.4226 | MN: 0.3864\n"
     ]
    },
    {
     "name": "stderr",
     "output_type": "stream",
     "text": [
      " 43%|████▎     | 1294/3000 [01:24<01:52, 15.17it/s]"
     ]
    },
    {
     "name": "stdout",
     "output_type": "stream",
     "text": [
      "Epoch 1290 | Loss: 1.5515 | Good indices: True\n",
      "    Mean square distance to | True X: 3.1418 | M: 3.8414 | N: 3.4342 | MN: 0.4025\n"
     ]
    },
    {
     "name": "stderr",
     "output_type": "stream",
     "text": [
      " 44%|████▍     | 1324/3000 [01:26<01:50, 15.16it/s]"
     ]
    },
    {
     "name": "stdout",
     "output_type": "stream",
     "text": [
      "Epoch 1320 | Loss: 1.5392 | Good indices: True\n",
      "    Mean square distance to | True X: 3.1474 | M: 3.8621 | N: 3.4462 | MN: 0.4189\n"
     ]
    },
    {
     "name": "stderr",
     "output_type": "stream",
     "text": [
      " 45%|████▌     | 1354/3000 [01:28<01:48, 15.17it/s]"
     ]
    },
    {
     "name": "stdout",
     "output_type": "stream",
     "text": [
      "Epoch 1350 | Loss: 1.5274 | Good indices: True\n",
      "    Mean square distance to | True X: 3.1531 | M: 3.8827 | N: 3.4587 | MN: 0.4354\n"
     ]
    },
    {
     "name": "stderr",
     "output_type": "stream",
     "text": [
      " 46%|████▌     | 1384/3000 [01:29<01:46, 15.20it/s]"
     ]
    },
    {
     "name": "stdout",
     "output_type": "stream",
     "text": [
      "Epoch 1380 | Loss: 1.5161 | Good indices: True\n",
      "    Mean square distance to | True X: 3.1589 | M: 3.9034 | N: 3.4713 | MN: 0.4521\n"
     ]
    },
    {
     "name": "stderr",
     "output_type": "stream",
     "text": [
      " 47%|████▋     | 1412/3000 [01:31<01:44, 15.17it/s]"
     ]
    },
    {
     "name": "stdout",
     "output_type": "stream",
     "text": [
      "Epoch 1410 | Loss: 1.5053 | Good indices: True\n",
      "    Mean square distance to | True X: 3.1649 | M: 3.9244 | N: 3.4840 | MN: 0.4690\n"
     ]
    },
    {
     "name": "stderr",
     "output_type": "stream",
     "text": [
      " 48%|████▊     | 1442/3000 [01:33<01:47, 14.48it/s]"
     ]
    },
    {
     "name": "stdout",
     "output_type": "stream",
     "text": [
      "Epoch 1440 | Loss: 1.4947 | Good indices: True\n",
      "    Mean square distance to | True X: 3.1710 | M: 3.9455 | N: 3.4969 | MN: 0.4860\n"
     ]
    },
    {
     "name": "stderr",
     "output_type": "stream",
     "text": [
      " 49%|████▉     | 1472/3000 [01:36<01:45, 14.48it/s]"
     ]
    },
    {
     "name": "stdout",
     "output_type": "stream",
     "text": [
      "Epoch 1470 | Loss: 1.4843 | Good indices: True\n",
      "    Mean square distance to | True X: 3.1775 | M: 3.9670 | N: 3.5100 | MN: 0.5032\n"
     ]
    },
    {
     "name": "stderr",
     "output_type": "stream",
     "text": [
      " 50%|█████     | 1502/3000 [01:38<01:43, 14.50it/s]"
     ]
    },
    {
     "name": "stdout",
     "output_type": "stream",
     "text": [
      "Epoch 1500 | Loss: 1.4741 | Good indices: True\n",
      "    Mean square distance to | True X: 3.1845 | M: 3.9887 | N: 3.5232 | MN: 0.5207\n"
     ]
    },
    {
     "name": "stderr",
     "output_type": "stream",
     "text": [
      " 51%|█████     | 1532/3000 [01:40<01:41, 14.49it/s]"
     ]
    },
    {
     "name": "stdout",
     "output_type": "stream",
     "text": [
      "Epoch 1530 | Loss: 1.4639 | Good indices: True\n",
      "    Mean square distance to | True X: 3.1917 | M: 4.0107 | N: 3.5364 | MN: 0.5383\n"
     ]
    },
    {
     "name": "stderr",
     "output_type": "stream",
     "text": [
      " 52%|█████▏    | 1562/3000 [01:42<01:39, 14.46it/s]"
     ]
    },
    {
     "name": "stdout",
     "output_type": "stream",
     "text": [
      "Epoch 1560 | Loss: 1.4541 | Good indices: True\n",
      "    Mean square distance to | True X: 3.1992 | M: 4.0329 | N: 3.5497 | MN: 0.5560\n"
     ]
    },
    {
     "name": "stderr",
     "output_type": "stream",
     "text": [
      " 53%|█████▎    | 1592/3000 [01:44<01:37, 14.45it/s]"
     ]
    },
    {
     "name": "stdout",
     "output_type": "stream",
     "text": [
      "Epoch 1590 | Loss: 1.4448 | Good indices: True\n",
      "    Mean square distance to | True X: 3.2068 | M: 4.0551 | N: 3.5631 | MN: 0.5739\n"
     ]
    },
    {
     "name": "stderr",
     "output_type": "stream",
     "text": [
      " 54%|█████▍    | 1622/3000 [01:46<01:35, 14.44it/s]"
     ]
    },
    {
     "name": "stdout",
     "output_type": "stream",
     "text": [
      "Epoch 1620 | Loss: 1.4360 | Good indices: True\n",
      "    Mean square distance to | True X: 3.2146 | M: 4.0773 | N: 3.5768 | MN: 0.5918\n"
     ]
    },
    {
     "name": "stderr",
     "output_type": "stream",
     "text": [
      " 55%|█████▌    | 1652/3000 [01:48<01:33, 14.47it/s]"
     ]
    },
    {
     "name": "stdout",
     "output_type": "stream",
     "text": [
      "Epoch 1650 | Loss: 1.4274 | Good indices: True\n",
      "    Mean square distance to | True X: 3.2226 | M: 4.0998 | N: 3.5907 | MN: 0.6100\n"
     ]
    },
    {
     "name": "stderr",
     "output_type": "stream",
     "text": [
      " 56%|█████▌    | 1682/3000 [01:50<01:31, 14.47it/s]"
     ]
    },
    {
     "name": "stdout",
     "output_type": "stream",
     "text": [
      "Epoch 1680 | Loss: 1.4189 | Good indices: True\n",
      "    Mean square distance to | True X: 3.2307 | M: 4.1226 | N: 3.6049 | MN: 0.6285\n"
     ]
    },
    {
     "name": "stderr",
     "output_type": "stream",
     "text": [
      " 57%|█████▋    | 1712/3000 [01:52<01:29, 14.43it/s]"
     ]
    },
    {
     "name": "stdout",
     "output_type": "stream",
     "text": [
      "Epoch 1710 | Loss: 1.4104 | Good indices: True\n",
      "    Mean square distance to | True X: 3.2390 | M: 4.1458 | N: 3.6192 | MN: 0.6472\n"
     ]
    },
    {
     "name": "stderr",
     "output_type": "stream",
     "text": [
      " 58%|█████▊    | 1742/3000 [01:54<01:26, 14.49it/s]"
     ]
    },
    {
     "name": "stdout",
     "output_type": "stream",
     "text": [
      "Epoch 1740 | Loss: 1.4022 | Good indices: True\n",
      "    Mean square distance to | True X: 3.2476 | M: 4.1694 | N: 3.6336 | MN: 0.6662\n"
     ]
    },
    {
     "name": "stderr",
     "output_type": "stream",
     "text": [
      " 59%|█████▉    | 1772/3000 [01:56<01:24, 14.45it/s]"
     ]
    },
    {
     "name": "stdout",
     "output_type": "stream",
     "text": [
      "Epoch 1770 | Loss: 1.3939 | Good indices: True\n",
      "    Mean square distance to | True X: 3.2562 | M: 4.1932 | N: 3.6482 | MN: 0.6855\n"
     ]
    },
    {
     "name": "stderr",
     "output_type": "stream",
     "text": [
      " 60%|██████    | 1802/3000 [01:58<01:22, 14.49it/s]"
     ]
    },
    {
     "name": "stdout",
     "output_type": "stream",
     "text": [
      "Epoch 1800 | Loss: 1.3853 | Good indices: True\n",
      "    Mean square distance to | True X: 3.2651 | M: 4.2174 | N: 3.6629 | MN: 0.7049\n"
     ]
    },
    {
     "name": "stderr",
     "output_type": "stream",
     "text": [
      " 61%|██████    | 1832/3000 [02:00<01:22, 14.23it/s]"
     ]
    },
    {
     "name": "stdout",
     "output_type": "stream",
     "text": [
      "Epoch 1830 | Loss: 1.3774 | Good indices: True\n",
      "    Mean square distance to | True X: 3.2742 | M: 4.2416 | N: 3.6776 | MN: 0.7244\n"
     ]
    },
    {
     "name": "stderr",
     "output_type": "stream",
     "text": [
      " 62%|██████▏   | 1862/3000 [02:03<01:20, 14.19it/s]"
     ]
    },
    {
     "name": "stdout",
     "output_type": "stream",
     "text": [
      "Epoch 1860 | Loss: 1.3700 | Good indices: True\n",
      "    Mean square distance to | True X: 3.2834 | M: 4.2659 | N: 3.6926 | MN: 0.7440\n"
     ]
    },
    {
     "name": "stderr",
     "output_type": "stream",
     "text": [
      " 63%|██████▎   | 1892/3000 [02:05<01:18, 14.15it/s]"
     ]
    },
    {
     "name": "stdout",
     "output_type": "stream",
     "text": [
      "Epoch 1890 | Loss: 1.3628 | Good indices: True\n",
      "    Mean square distance to | True X: 3.2929 | M: 4.2901 | N: 3.7079 | MN: 0.7638\n"
     ]
    },
    {
     "name": "stderr",
     "output_type": "stream",
     "text": [
      " 64%|██████▍   | 1922/3000 [02:07<01:16, 14.18it/s]"
     ]
    },
    {
     "name": "stdout",
     "output_type": "stream",
     "text": [
      "Epoch 1920 | Loss: 1.3557 | Good indices: True\n",
      "    Mean square distance to | True X: 3.3025 | M: 4.3144 | N: 3.7234 | MN: 0.7837\n"
     ]
    },
    {
     "name": "stderr",
     "output_type": "stream",
     "text": [
      " 65%|██████▌   | 1952/3000 [02:09<01:14, 14.14it/s]"
     ]
    },
    {
     "name": "stdout",
     "output_type": "stream",
     "text": [
      "Epoch 1950 | Loss: 1.3486 | Good indices: True\n",
      "    Mean square distance to | True X: 3.3121 | M: 4.3390 | N: 3.7391 | MN: 0.8038\n"
     ]
    },
    {
     "name": "stderr",
     "output_type": "stream",
     "text": [
      " 66%|██████▌   | 1982/3000 [02:11<01:11, 14.14it/s]"
     ]
    },
    {
     "name": "stdout",
     "output_type": "stream",
     "text": [
      "Epoch 1980 | Loss: 1.3416 | Good indices: True\n",
      "    Mean square distance to | True X: 3.3218 | M: 4.3641 | N: 3.7547 | MN: 0.8242\n"
     ]
    },
    {
     "name": "stderr",
     "output_type": "stream",
     "text": [
      " 67%|██████▋   | 2012/3000 [02:13<01:09, 14.17it/s]"
     ]
    },
    {
     "name": "stdout",
     "output_type": "stream",
     "text": [
      "Epoch 2010 | Loss: 1.3344 | Good indices: True\n",
      "    Mean square distance to | True X: 3.3313 | M: 4.3898 | N: 3.7702 | MN: 0.8448\n"
     ]
    },
    {
     "name": "stderr",
     "output_type": "stream",
     "text": [
      " 68%|██████▊   | 2042/3000 [02:15<01:08, 14.07it/s]"
     ]
    },
    {
     "name": "stdout",
     "output_type": "stream",
     "text": [
      "Epoch 2040 | Loss: 1.3273 | Good indices: True\n",
      "    Mean square distance to | True X: 3.3411 | M: 4.4159 | N: 3.7860 | MN: 0.8657\n"
     ]
    },
    {
     "name": "stderr",
     "output_type": "stream",
     "text": [
      " 69%|██████▉   | 2072/3000 [02:18<01:05, 14.27it/s]"
     ]
    },
    {
     "name": "stdout",
     "output_type": "stream",
     "text": [
      "Epoch 2070 | Loss: 1.3203 | Good indices: True\n",
      "    Mean square distance to | True X: 3.3514 | M: 4.4420 | N: 3.8020 | MN: 0.8868\n"
     ]
    },
    {
     "name": "stderr",
     "output_type": "stream",
     "text": [
      " 70%|███████   | 2102/3000 [02:20<01:03, 14.07it/s]"
     ]
    },
    {
     "name": "stdout",
     "output_type": "stream",
     "text": [
      "Epoch 2100 | Loss: 1.3133 | Good indices: True\n",
      "    Mean square distance to | True X: 3.3619 | M: 4.4684 | N: 3.8183 | MN: 0.9081\n"
     ]
    },
    {
     "name": "stderr",
     "output_type": "stream",
     "text": [
      " 71%|███████   | 2132/3000 [02:22<01:02, 13.80it/s]"
     ]
    },
    {
     "name": "stdout",
     "output_type": "stream",
     "text": [
      "Epoch 2130 | Loss: 1.3064 | Good indices: True\n",
      "    Mean square distance to | True X: 3.3726 | M: 4.4950 | N: 3.8349 | MN: 0.9297\n"
     ]
    },
    {
     "name": "stderr",
     "output_type": "stream",
     "text": [
      " 72%|███████▏  | 2162/3000 [02:24<00:59, 13.99it/s]"
     ]
    },
    {
     "name": "stdout",
     "output_type": "stream",
     "text": [
      "Epoch 2160 | Loss: 1.2997 | Good indices: True\n",
      "    Mean square distance to | True X: 3.3835 | M: 4.5217 | N: 3.8517 | MN: 0.9514\n"
     ]
    },
    {
     "name": "stderr",
     "output_type": "stream",
     "text": [
      " 73%|███████▎  | 2192/3000 [02:26<00:57, 14.07it/s]"
     ]
    },
    {
     "name": "stdout",
     "output_type": "stream",
     "text": [
      "Epoch 2190 | Loss: 1.2933 | Good indices: True\n",
      "    Mean square distance to | True X: 3.3944 | M: 4.5485 | N: 3.8686 | MN: 0.9733\n"
     ]
    },
    {
     "name": "stderr",
     "output_type": "stream",
     "text": [
      " 74%|███████▍  | 2222/3000 [02:28<01:00, 12.93it/s]"
     ]
    },
    {
     "name": "stdout",
     "output_type": "stream",
     "text": [
      "Epoch 2220 | Loss: 1.2870 | Good indices: True\n",
      "    Mean square distance to | True X: 3.4055 | M: 4.5756 | N: 3.8855 | MN: 0.9953\n"
     ]
    },
    {
     "name": "stderr",
     "output_type": "stream",
     "text": [
      " 75%|███████▌  | 2252/3000 [02:31<00:57, 12.99it/s]"
     ]
    },
    {
     "name": "stdout",
     "output_type": "stream",
     "text": [
      "Epoch 2250 | Loss: 1.2807 | Good indices: True\n",
      "    Mean square distance to | True X: 3.4167 | M: 4.6031 | N: 3.9023 | MN: 1.0175\n"
     ]
    },
    {
     "name": "stderr",
     "output_type": "stream",
     "text": [
      " 76%|███████▌  | 2282/3000 [02:33<00:56, 12.65it/s]"
     ]
    },
    {
     "name": "stdout",
     "output_type": "stream",
     "text": [
      "Epoch 2280 | Loss: 1.2744 | Good indices: True\n",
      "    Mean square distance to | True X: 3.4284 | M: 4.6313 | N: 3.9190 | MN: 1.0399\n"
     ]
    },
    {
     "name": "stderr",
     "output_type": "stream",
     "text": [
      " 77%|███████▋  | 2312/3000 [02:35<00:50, 13.57it/s]"
     ]
    },
    {
     "name": "stdout",
     "output_type": "stream",
     "text": [
      "Epoch 2310 | Loss: 1.2682 | Good indices: True\n",
      "    Mean square distance to | True X: 3.4405 | M: 4.6598 | N: 3.9359 | MN: 1.0626\n"
     ]
    },
    {
     "name": "stderr",
     "output_type": "stream",
     "text": [
      " 78%|███████▊  | 2342/3000 [02:37<00:48, 13.53it/s]"
     ]
    },
    {
     "name": "stdout",
     "output_type": "stream",
     "text": [
      "Epoch 2340 | Loss: 1.2622 | Good indices: True\n",
      "    Mean square distance to | True X: 3.4527 | M: 4.6882 | N: 3.9529 | MN: 1.0853\n"
     ]
    },
    {
     "name": "stderr",
     "output_type": "stream",
     "text": [
      " 79%|███████▉  | 2372/3000 [02:40<00:46, 13.52it/s]"
     ]
    },
    {
     "name": "stdout",
     "output_type": "stream",
     "text": [
      "Epoch 2370 | Loss: 1.2564 | Good indices: True\n",
      "    Mean square distance to | True X: 3.4652 | M: 4.7165 | N: 3.9700 | MN: 1.1080\n"
     ]
    },
    {
     "name": "stderr",
     "output_type": "stream",
     "text": [
      " 80%|████████  | 2402/3000 [02:42<00:44, 13.53it/s]"
     ]
    },
    {
     "name": "stdout",
     "output_type": "stream",
     "text": [
      "Epoch 2400 | Loss: 1.2507 | Good indices: True\n",
      "    Mean square distance to | True X: 3.4778 | M: 4.7445 | N: 3.9873 | MN: 1.1307\n"
     ]
    },
    {
     "name": "stderr",
     "output_type": "stream",
     "text": [
      " 81%|████████  | 2432/3000 [02:44<00:42, 13.50it/s]"
     ]
    },
    {
     "name": "stdout",
     "output_type": "stream",
     "text": [
      "Epoch 2430 | Loss: 1.2451 | Good indices: True\n",
      "    Mean square distance to | True X: 3.4906 | M: 4.7725 | N: 4.0049 | MN: 1.1534\n"
     ]
    },
    {
     "name": "stderr",
     "output_type": "stream",
     "text": [
      " 82%|████████▏ | 2462/3000 [02:46<00:39, 13.56it/s]"
     ]
    },
    {
     "name": "stdout",
     "output_type": "stream",
     "text": [
      "Epoch 2460 | Loss: 1.2397 | Good indices: True\n",
      "    Mean square distance to | True X: 3.5034 | M: 4.8003 | N: 4.0228 | MN: 1.1763\n"
     ]
    },
    {
     "name": "stderr",
     "output_type": "stream",
     "text": [
      " 83%|████████▎ | 2492/3000 [02:49<00:37, 13.56it/s]"
     ]
    },
    {
     "name": "stdout",
     "output_type": "stream",
     "text": [
      "Epoch 2490 | Loss: 1.2346 | Good indices: True\n",
      "    Mean square distance to | True X: 3.5162 | M: 4.8280 | N: 4.0409 | MN: 1.1992\n"
     ]
    },
    {
     "name": "stderr",
     "output_type": "stream",
     "text": [
      " 84%|████████▍ | 2522/3000 [02:51<00:35, 13.59it/s]"
     ]
    },
    {
     "name": "stdout",
     "output_type": "stream",
     "text": [
      "Epoch 2520 | Loss: 1.2297 | Good indices: True\n",
      "    Mean square distance to | True X: 3.5292 | M: 4.8555 | N: 4.0592 | MN: 1.2221\n"
     ]
    },
    {
     "name": "stderr",
     "output_type": "stream",
     "text": [
      " 85%|████████▌ | 2552/3000 [02:53<00:33, 13.57it/s]"
     ]
    },
    {
     "name": "stdout",
     "output_type": "stream",
     "text": [
      "Epoch 2550 | Loss: 1.2250 | Good indices: True\n",
      "    Mean square distance to | True X: 3.5424 | M: 4.8832 | N: 4.0774 | MN: 1.2451\n"
     ]
    },
    {
     "name": "stderr",
     "output_type": "stream",
     "text": [
      " 86%|████████▌ | 2582/3000 [02:55<00:30, 13.57it/s]"
     ]
    },
    {
     "name": "stdout",
     "output_type": "stream",
     "text": [
      "Epoch 2580 | Loss: 1.2205 | Good indices: True\n",
      "    Mean square distance to | True X: 3.5557 | M: 4.9110 | N: 4.0956 | MN: 1.2681\n"
     ]
    },
    {
     "name": "stderr",
     "output_type": "stream",
     "text": [
      " 87%|████████▋ | 2612/3000 [02:57<00:28, 13.55it/s]"
     ]
    },
    {
     "name": "stdout",
     "output_type": "stream",
     "text": [
      "Epoch 2610 | Loss: 1.2159 | Good indices: True\n",
      "    Mean square distance to | True X: 3.5693 | M: 4.9392 | N: 4.1138 | MN: 1.2912\n"
     ]
    },
    {
     "name": "stderr",
     "output_type": "stream",
     "text": [
      " 88%|████████▊ | 2642/3000 [03:00<00:26, 13.58it/s]"
     ]
    },
    {
     "name": "stdout",
     "output_type": "stream",
     "text": [
      "Epoch 2640 | Loss: 1.2115 | Good indices: True\n",
      "    Mean square distance to | True X: 3.5829 | M: 4.9675 | N: 4.1321 | MN: 1.3146\n"
     ]
    },
    {
     "name": "stderr",
     "output_type": "stream",
     "text": [
      " 89%|████████▉ | 2672/3000 [03:02<00:24, 13.59it/s]"
     ]
    },
    {
     "name": "stdout",
     "output_type": "stream",
     "text": [
      "Epoch 2670 | Loss: 1.2071 | Good indices: True\n",
      "    Mean square distance to | True X: 3.5968 | M: 4.9961 | N: 4.1505 | MN: 1.3381\n"
     ]
    },
    {
     "name": "stderr",
     "output_type": "stream",
     "text": [
      " 90%|█████████ | 2702/3000 [03:04<00:21, 13.56it/s]"
     ]
    },
    {
     "name": "stdout",
     "output_type": "stream",
     "text": [
      "Epoch 2700 | Loss: 1.2027 | Good indices: True\n",
      "    Mean square distance to | True X: 3.6109 | M: 5.0250 | N: 4.1689 | MN: 1.3617\n"
     ]
    },
    {
     "name": "stderr",
     "output_type": "stream",
     "text": [
      " 91%|█████████ | 2732/3000 [03:06<00:19, 13.59it/s]"
     ]
    },
    {
     "name": "stdout",
     "output_type": "stream",
     "text": [
      "Epoch 2730 | Loss: 1.1982 | Good indices: True\n",
      "    Mean square distance to | True X: 3.6252 | M: 5.0541 | N: 4.1875 | MN: 1.3856\n"
     ]
    },
    {
     "name": "stderr",
     "output_type": "stream",
     "text": [
      " 92%|█████████▏| 2762/3000 [03:08<00:17, 13.58it/s]"
     ]
    },
    {
     "name": "stdout",
     "output_type": "stream",
     "text": [
      "Epoch 2760 | Loss: 1.1938 | Good indices: True\n",
      "    Mean square distance to | True X: 3.6397 | M: 5.0832 | N: 4.2064 | MN: 1.4096\n"
     ]
    },
    {
     "name": "stderr",
     "output_type": "stream",
     "text": [
      " 93%|█████████▎| 2792/3000 [03:11<00:15, 13.58it/s]"
     ]
    },
    {
     "name": "stdout",
     "output_type": "stream",
     "text": [
      "Epoch 2790 | Loss: 1.1894 | Good indices: True\n",
      "    Mean square distance to | True X: 3.6543 | M: 5.1122 | N: 4.2256 | MN: 1.4337\n"
     ]
    },
    {
     "name": "stderr",
     "output_type": "stream",
     "text": [
      " 94%|█████████▍| 2822/3000 [03:13<00:13, 13.54it/s]"
     ]
    },
    {
     "name": "stdout",
     "output_type": "stream",
     "text": [
      "Epoch 2820 | Loss: 1.1852 | Good indices: True\n",
      "    Mean square distance to | True X: 3.6690 | M: 5.1414 | N: 4.2449 | MN: 1.4579\n"
     ]
    },
    {
     "name": "stderr",
     "output_type": "stream",
     "text": [
      " 95%|█████████▌| 2852/3000 [03:15<00:10, 13.56it/s]"
     ]
    },
    {
     "name": "stdout",
     "output_type": "stream",
     "text": [
      "Epoch 2850 | Loss: 1.1810 | Good indices: True\n",
      "    Mean square distance to | True X: 3.6839 | M: 5.1707 | N: 4.2644 | MN: 1.4823\n"
     ]
    },
    {
     "name": "stderr",
     "output_type": "stream",
     "text": [
      " 96%|█████████▌| 2882/3000 [03:17<00:08, 13.55it/s]"
     ]
    },
    {
     "name": "stdout",
     "output_type": "stream",
     "text": [
      "Epoch 2880 | Loss: 1.1769 | Good indices: True\n",
      "    Mean square distance to | True X: 3.6991 | M: 5.2001 | N: 4.2840 | MN: 1.5068\n"
     ]
    },
    {
     "name": "stderr",
     "output_type": "stream",
     "text": [
      " 97%|█████████▋| 2912/3000 [03:19<00:06, 13.52it/s]"
     ]
    },
    {
     "name": "stdout",
     "output_type": "stream",
     "text": [
      "Epoch 2910 | Loss: 1.1728 | Good indices: True\n",
      "    Mean square distance to | True X: 3.7145 | M: 5.2297 | N: 4.3039 | MN: 1.5316\n"
     ]
    },
    {
     "name": "stderr",
     "output_type": "stream",
     "text": [
      " 98%|█████████▊| 2942/3000 [03:22<00:04, 13.54it/s]"
     ]
    },
    {
     "name": "stdout",
     "output_type": "stream",
     "text": [
      "Epoch 2940 | Loss: 1.1686 | Good indices: True\n",
      "    Mean square distance to | True X: 3.7301 | M: 5.2595 | N: 4.3240 | MN: 1.5565\n"
     ]
    },
    {
     "name": "stderr",
     "output_type": "stream",
     "text": [
      " 99%|█████████▉| 2972/3000 [03:24<00:02, 13.57it/s]"
     ]
    },
    {
     "name": "stdout",
     "output_type": "stream",
     "text": [
      "Epoch 2970 | Loss: 1.1644 | Good indices: True\n",
      "    Mean square distance to | True X: 3.7459 | M: 5.2894 | N: 4.3443 | MN: 1.5816\n"
     ]
    },
    {
     "name": "stderr",
     "output_type": "stream",
     "text": [
      "100%|██████████| 3000/3000 [03:26<00:00, 14.53it/s]\n"
     ]
    },
    {
     "name": "stdout",
     "output_type": "stream",
     "text": [
      "Distance to true X1: 3.761364221572876\n",
      "self.lambda_X = tensor([0.0016])\n"
     ]
    },
    {
     "name": "stderr",
     "output_type": "stream",
     "text": [
      "100%|██████████| 100/100 [00:00<00:00, 175.71it/s]"
     ]
    },
    {
     "name": "stdout",
     "output_type": "stream",
     "text": [
      "Minimization took 0.57 seconds\n"
     ]
    },
    {
     "name": "stderr",
     "output_type": "stream",
     "text": [
      "\n"
     ]
    }
   ],
   "source": [
    "import sys\n",
    "import os\n",
    "import torch\n",
    "import pandas as pd\n",
    "\n",
    "sys.path.append(os.path.abspath(os.path.join('..')))\n",
    "\n",
    "from src.designs.demand import Demand\n",
    "from src.models.mekiv import MEKIV\n",
    "from src.models.kiv_adaptive_ridge import KIVAdaptiveRidge\n",
    "from src.structures.stage_data import StageData\n",
    "\n",
    "LMBDA_SEARCH_SPACE = torch.exp(torch.linspace(-8,3,100))\n",
    "XI_SEARCH_SPACE = torch.exp(torch.linspace(-8,3,100))\n",
    "\n",
    "design = Demand(rho=0.5)\n",
    "merror = 0.5\n",
    "    \n",
    "X, M, N, Y, Z = design.generate_MEKIV_data(no_points=1000, merror_type = 'gaussian', merror_scale=merror)\n",
    "test_data = design.generate_test_data(1500)\n",
    "\n",
    "mekiv = MEKIV(M, N, Y, Z, lmbda_search_space=LMBDA_SEARCH_SPACE, xi_search_space=XI_SEARCH_SPACE, real_X=X, no_epochs=3000)\n",
    "mekiv_preds = mekiv.predict(test_data.X)\n",
    "mekiv_mse = test_data.evaluate_preds(mekiv_preds)"
   ]
  },
  {
   "cell_type": "code",
   "execution_count": 9,
   "metadata": {},
   "outputs": [
    {
     "data": {
      "text/plain": [
       "Text(0.5, 0, 'Iteration')"
      ]
     },
     "execution_count": 9,
     "metadata": {},
     "output_type": "execute_result"
    },
    {
     "data": {
      "image/png": "[encoded data removed]",
      "text/plain": [
       "<Figure size 1200x500 with 2 Axes>"
      ]
     },
     "metadata": {},
     "output_type": "display_data"
    }
   ],
   "source": [
    "losses, distances = mekiv.losses_distances()\n",
    "\n",
    "import matplotlib.pyplot as plt\n",
    "import seaborn as sns\n",
    "\n",
    "CAP = 3000\n",
    "\n",
    "# Make subplots with 2 columns and 1 row\n",
    "fig, axs = plt.subplots(1, 2, figsize=(12, 5))\n",
    "sns.lineplot(y=losses[:CAP], x=range(len(losses[:CAP])), ax=axs[0])\n",
    "axs[0].set_ylabel('Loss')\n",
    "axs[0].set_xlabel('Iteration')\n",
    "sns.lineplot(y=distances[:CAP], x=range(len(distances[:CAP])), ax=axs[1])\n",
    "axs[1].set_ylabel('Distance')\n",
    "axs[1].set_xlabel('Iteration')\n",
    "\n"
   ]
  }
 ],
 "metadata": {
  "kernelspec": {
   "display_name": "Python 3",
   "language": "python",
   "name": "python3"
  },
  "language_info": {
   "codemirror_mode": {
    "name": "ipython",
    "version": 3
   },
   "file_extension": ".py",
   "mimetype": "text/x-python",
   "name": "python",
   "nbconvert_exporter": "python",
   "pygments_lexer": "ipython3",
   "version": "3.10.12"
  },
  "orig_nbformat": 4
 },
 "nbformat": 4,
 "nbformat_minor": 2
}
